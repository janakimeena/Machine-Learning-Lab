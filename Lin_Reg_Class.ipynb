{
  "nbformat": 4,
  "nbformat_minor": 0,
  "metadata": {
    "colab": {
      "name": "Lin_Reg_Class.ipynb",
      "provenance": [],
      "collapsed_sections": [],
      "include_colab_link": true
    },
    "kernelspec": {
      "name": "python3",
      "display_name": "Python 3"
    }
  },
  "cells": [
    {
      "cell_type": "markdown",
      "metadata": {
        "id": "view-in-github",
        "colab_type": "text"
      },
      "source": [
        "<a href=\"https://colab.research.google.com/github/janakimeena/Machine-Learning-Lab/blob/master/Lin_Reg_Class.ipynb\" target=\"_parent\"><img src=\"https://colab.research.google.com/assets/colab-badge.svg\" alt=\"Open In Colab\"/></a>"
      ]
    },
    {
      "cell_type": "markdown",
      "metadata": {
        "id": "GnpUFpQ9NRuP",
        "colab_type": "text"
      },
      "source": [
        "# Linear Regression with gradient descent "
      ]
    },
    {
      "cell_type": "code",
      "metadata": {
        "id": "po-_3bsEthM1",
        "colab_type": "code",
        "colab": {}
      },
      "source": [
        "import numpy as np\n",
        "import pandas as pd"
      ],
      "execution_count": 0,
      "outputs": []
    },
    {
      "cell_type": "code",
      "metadata": {
        "id": "c3uNFrWFGeGo",
        "colab_type": "code",
        "outputId": "71388e98-7515-46c9-c22d-be57d20cb80f",
        "colab": {
          "base_uri": "https://localhost:8080/",
          "height": 34
        }
      },
      "source": [
        "a1 = np.array([1,2,3])\n",
        "a2 = np.array([4,5,6])\n",
        "print(np.dot(a1,a2))"
      ],
      "execution_count": 0,
      "outputs": [
        {
          "output_type": "stream",
          "text": [
            "32\n"
          ],
          "name": "stdout"
        }
      ]
    },
    {
      "cell_type": "markdown",
      "metadata": {
        "id": "prTxGPJBH0e8",
        "colab_type": "text"
      },
      "source": [
        "## Formula used\n",
        "Cost Function (Error)\n",
        "\n",
        "$J(\\theta) = \\frac{1}{2m}{\\sum_{i=1}^{m} (h_\\theta(x^{(i)})-y^{(i)})^2}$\n",
        "\n",
        "Weight($\\theta$) Update Rule\n",
        "\n",
        "$\\theta_j = \\theta_j-\\alpha \\frac{1}{m}{\\sum_{i=1}^{m} (h_\\theta(x^{(i)}-y^{(i)})x_j^{(i)}}$"
      ]
    },
    {
      "cell_type": "code",
      "metadata": {
        "id": "JCz_y4-1tm01",
        "colab_type": "code",
        "colab": {}
      },
      "source": [
        "class LinearRegression:\n",
        "\n",
        "  def __init__(self):\n",
        "    self.theta = np.zeros([2,1])\n",
        "    self.iterations = 1500\n",
        "    self.alpha = 0.01\n",
        "\n",
        "  def predict(self, X, y):\n",
        "    temp = np.dot(X, self.theta) - y\n",
        "    return np.sum(np.power(temp, 2)) / (2*m)\n",
        "\n",
        "  def fit(self,X,y):\n",
        "    for _ in range(self.iterations):\n",
        "        temp = np.dot(X, self.theta) - y\n",
        "        temp = np.dot(X.T, temp)\n",
        "        self.theta = self.theta - (self.alpha/m) * temp\n",
        "    return self.theta\n",
        "    "
      ],
      "execution_count": 0,
      "outputs": []
    },
    {
      "cell_type": "code",
      "metadata": {
        "id": "2mVotzQ5tsU9",
        "colab_type": "code",
        "colab": {}
      },
      "source": [
        "data = pd.read_csv('data1.txt', header = None) #read from dataset\n",
        "X = data.iloc[:,0] # read first column\n",
        "y = data.iloc[:,1] # read second column\n",
        "m = len(y) # number of training example\n",
        "data.head() # view first few rows of the data"
      ],
      "execution_count": 0,
      "outputs": []
    },
    {
      "cell_type": "code",
      "metadata": {
        "id": "kLsZCKrYtzqC",
        "colab_type": "code",
        "colab": {}
      },
      "source": [
        "X = X[:,np.newaxis]\n",
        "y = y[:,np.newaxis]\n",
        "ones = np.ones((m,1))\n",
        "X = np.hstack((ones, X)) # adding the intercept term"
      ],
      "execution_count": 0,
      "outputs": []
    },
    {
      "cell_type": "code",
      "metadata": {
        "id": "rzOhTh9xt6D3",
        "colab_type": "code",
        "outputId": "c376db7a-d241-4be6-9ae1-6bf30195a1e3",
        "colab": {
          "base_uri": "https://localhost:8080/",
          "height": 68
        }
      },
      "source": [
        "lin = LinearRegression()\n",
        "print('theta is ',lin.fit(X,y))\n",
        "print(lin.predict(X,y))"
      ],
      "execution_count": 0,
      "outputs": [
        {
          "output_type": "stream",
          "text": [
            "theta is  [[-3.63029144]\n",
            " [ 1.16636235]]\n",
            "4.483388256587726\n"
          ],
          "name": "stdout"
        }
      ]
    },
    {
      "cell_type": "markdown",
      "metadata": {
        "id": "_K2NQP_PiaG6",
        "colab_type": "text"
      },
      "source": [
        "# Linear Regression with multiple variables"
      ]
    },
    {
      "cell_type": "code",
      "metadata": {
        "id": "ALhwFKvwikjx",
        "colab_type": "code",
        "colab": {}
      },
      "source": [
        "import numpy as np\n",
        "import pandas as pd\n",
        "data = pd.read_csv('data2.txt', sep = ',', header = None)\n",
        "X = data.iloc[:,0:2] # read first two columns into X\n",
        "y = data.iloc[:,2] # read the third column into y\n",
        "m = len(y) # no. of training samples\n",
        "data.head()"
      ],
      "execution_count": 0,
      "outputs": []
    },
    {
      "cell_type": "markdown",
      "metadata": {
        "id": "2CqLpLGDlgh6",
        "colab_type": "text"
      },
      "source": [
        "## Feature Normalization"
      ]
    },
    {
      "cell_type": "code",
      "metadata": {
        "id": "s18H7NvPk5PO",
        "colab_type": "code",
        "colab": {}
      },
      "source": [
        "X = (X - np.mean(X))/np.std(X)"
      ],
      "execution_count": 0,
      "outputs": []
    },
    {
      "cell_type": "code",
      "metadata": {
        "id": "5Wkrk7bWk9eL",
        "colab_type": "code",
        "colab": {}
      },
      "source": [
        "ones = np.ones((m,1))\n",
        "X = np.hstack((ones, X))\n",
        "\n",
        "y = y[:,np.newaxis]"
      ],
      "execution_count": 0,
      "outputs": []
    },
    {
      "cell_type": "code",
      "metadata": {
        "id": "NAgvG_7DlrgF",
        "colab_type": "code",
        "colab": {}
      },
      "source": [
        "class LinearRegression:\n",
        "\n",
        "  def __init__(self):\n",
        "    self.theta = np.zeros((3,1))\n",
        "    self.iterations = 400\n",
        "    self.alpha = 0.01\n",
        "    self.ones = np.ones((m,1))\n",
        "\n",
        "\n",
        "  def predict(self, X, y):\n",
        "    temp = np.dot(X, self.theta) - y\n",
        "    return np.sum(np.power(temp, 2)) / (2*m)\n",
        "\n",
        "\n",
        "  def fit(self,X,y):\n",
        "    m = len(y)\n",
        "    for _ in range(self.iterations):\n",
        "        temp = np.dot(X, self.theta) - y\n",
        "        temp = np.dot(X.T, temp)\n",
        "        self.theta = self.theta - (self.alpha/m) * temp\n",
        "    return self.theta\n",
        "    "
      ],
      "execution_count": 0,
      "outputs": []
    },
    {
      "cell_type": "code",
      "metadata": {
        "id": "bljQwFD5mgJm",
        "colab_type": "code",
        "outputId": "98fc7bf3-633a-47b0-a0be-715da4c62fca",
        "colab": {
          "base_uri": "https://localhost:8080/",
          "height": 103
        }
      },
      "source": [
        "lin = LinearRegression()\n",
        "print(lin.predict(X,y))\n",
        "print('theta is ',lin.fit(X,y))\n",
        "print(lin.predict(X,y))"
      ],
      "execution_count": 0,
      "outputs": [
        {
          "output_type": "stream",
          "text": [
            "65591548106.45744\n",
            "theta is  [[334302.06399328]\n",
            " [ 99411.44947359]\n",
            " [  3267.01285407]]\n",
            "2105448288.6292474\n"
          ],
          "name": "stdout"
        }
      ]
    },
    {
      "cell_type": "code",
      "metadata": {
        "id": "2rUJIYZqLFLv",
        "colab_type": "code",
        "colab": {}
      },
      "source": [
        ""
      ],
      "execution_count": 0,
      "outputs": []
    }
  ]
}