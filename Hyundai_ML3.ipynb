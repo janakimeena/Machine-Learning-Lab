{
  "nbformat": 4,
  "nbformat_minor": 0,
  "metadata": {
    "colab": {
      "name": "Hyundai_ML3.ipynb",
      "provenance": [],
      "collapsed_sections": []
    },
    "kernelspec": {
      "name": "python3",
      "display_name": "Python 3"
    },
    "language_info": {
      "name": "python"
    }
  },
  "cells": [
    {
      "cell_type": "code",
      "metadata": {
        "id": "vbB8bLYv60IB"
      },
      "source": [
        "import pandas as pd\n",
        "import matplotlib.pyplot as plt\n",
        "import seaborn as sns"
      ],
      "execution_count": 196,
      "outputs": []
    },
    {
      "cell_type": "code",
      "metadata": {
        "colab": {
          "base_uri": "https://localhost:8080/",
          "height": 206
        },
        "id": "acR9lsnX66wO",
        "outputId": "4ffbcefa-a484-4aa3-b4e4-3494a74c0d87"
      },
      "source": [
        "data = pd.read_excel('toyota_km4.xlsx',na_values=['??']) #read from dataset\n",
        "\n",
        "data.head() # view first few rows of the data"
      ],
      "execution_count": 197,
      "outputs": [
        {
          "output_type": "execute_result",
          "data": {
            "text/html": [
              "<div>\n",
              "<style scoped>\n",
              "    .dataframe tbody tr th:only-of-type {\n",
              "        vertical-align: middle;\n",
              "    }\n",
              "\n",
              "    .dataframe tbody tr th {\n",
              "        vertical-align: top;\n",
              "    }\n",
              "\n",
              "    .dataframe thead th {\n",
              "        text-align: right;\n",
              "    }\n",
              "</style>\n",
              "<table border=\"1\" class=\"dataframe\">\n",
              "  <thead>\n",
              "    <tr style=\"text-align: right;\">\n",
              "      <th></th>\n",
              "      <th>x</th>\n",
              "      <th>r</th>\n",
              "    </tr>\n",
              "  </thead>\n",
              "  <tbody>\n",
              "    <tr>\n",
              "      <th>0</th>\n",
              "      <td>46986.0</td>\n",
              "      <td>13500</td>\n",
              "    </tr>\n",
              "    <tr>\n",
              "      <th>1</th>\n",
              "      <td>72937.0</td>\n",
              "      <td>13750</td>\n",
              "    </tr>\n",
              "    <tr>\n",
              "      <th>2</th>\n",
              "      <td>41711.0</td>\n",
              "      <td>13950</td>\n",
              "    </tr>\n",
              "    <tr>\n",
              "      <th>3</th>\n",
              "      <td>48000.0</td>\n",
              "      <td>14950</td>\n",
              "    </tr>\n",
              "    <tr>\n",
              "      <th>4</th>\n",
              "      <td>38500.0</td>\n",
              "      <td>13750</td>\n",
              "    </tr>\n",
              "  </tbody>\n",
              "</table>\n",
              "</div>"
            ],
            "text/plain": [
              "         x      r\n",
              "0  46986.0  13500\n",
              "1  72937.0  13750\n",
              "2  41711.0  13950\n",
              "3  48000.0  14950\n",
              "4  38500.0  13750"
            ]
          },
          "metadata": {
            "tags": []
          },
          "execution_count": 197
        }
      ]
    },
    {
      "cell_type": "code",
      "metadata": {
        "id": "4EeZTbnWF0PI"
      },
      "source": [
        "data = data.dropna()"
      ],
      "execution_count": 198,
      "outputs": []
    },
    {
      "cell_type": "code",
      "metadata": {
        "colab": {
          "base_uri": "https://localhost:8080/",
          "height": 424
        },
        "id": "xdijLd0wwRxX",
        "outputId": "f0684dc2-18b1-481f-9d80-971305bbb9d0"
      },
      "source": [
        "test_data = data.iloc[-100:]\n",
        "test_data"
      ],
      "execution_count": 199,
      "outputs": [
        {
          "output_type": "execute_result",
          "data": {
            "text/html": [
              "<div>\n",
              "<style scoped>\n",
              "    .dataframe tbody tr th:only-of-type {\n",
              "        vertical-align: middle;\n",
              "    }\n",
              "\n",
              "    .dataframe tbody tr th {\n",
              "        vertical-align: top;\n",
              "    }\n",
              "\n",
              "    .dataframe thead th {\n",
              "        text-align: right;\n",
              "    }\n",
              "</style>\n",
              "<table border=\"1\" class=\"dataframe\">\n",
              "  <thead>\n",
              "    <tr style=\"text-align: right;\">\n",
              "      <th></th>\n",
              "      <th>x</th>\n",
              "      <th>r</th>\n",
              "    </tr>\n",
              "  </thead>\n",
              "  <tbody>\n",
              "    <tr>\n",
              "      <th>1331</th>\n",
              "      <td>65006.0</td>\n",
              "      <td>6950</td>\n",
              "    </tr>\n",
              "    <tr>\n",
              "      <th>1332</th>\n",
              "      <td>64280.0</td>\n",
              "      <td>8495</td>\n",
              "    </tr>\n",
              "    <tr>\n",
              "      <th>1333</th>\n",
              "      <td>64000.0</td>\n",
              "      <td>10000</td>\n",
              "    </tr>\n",
              "    <tr>\n",
              "      <th>1334</th>\n",
              "      <td>64000.0</td>\n",
              "      <td>6999</td>\n",
              "    </tr>\n",
              "    <tr>\n",
              "      <th>1335</th>\n",
              "      <td>64000.0</td>\n",
              "      <td>8950</td>\n",
              "    </tr>\n",
              "    <tr>\n",
              "      <th>...</th>\n",
              "      <td>...</td>\n",
              "      <td>...</td>\n",
              "    </tr>\n",
              "    <tr>\n",
              "      <th>1429</th>\n",
              "      <td>24000.0</td>\n",
              "      <td>8950</td>\n",
              "    </tr>\n",
              "    <tr>\n",
              "      <th>1430</th>\n",
              "      <td>23000.0</td>\n",
              "      <td>8450</td>\n",
              "    </tr>\n",
              "    <tr>\n",
              "      <th>1431</th>\n",
              "      <td>20544.0</td>\n",
              "      <td>7500</td>\n",
              "    </tr>\n",
              "    <tr>\n",
              "      <th>1433</th>\n",
              "      <td>17016.0</td>\n",
              "      <td>8500</td>\n",
              "    </tr>\n",
              "    <tr>\n",
              "      <th>1435</th>\n",
              "      <td>1.0</td>\n",
              "      <td>6950</td>\n",
              "    </tr>\n",
              "  </tbody>\n",
              "</table>\n",
              "<p>100 rows × 2 columns</p>\n",
              "</div>"
            ],
            "text/plain": [
              "            x      r\n",
              "1331  65006.0   6950\n",
              "1332  64280.0   8495\n",
              "1333  64000.0  10000\n",
              "1334  64000.0   6999\n",
              "1335  64000.0   8950\n",
              "...       ...    ...\n",
              "1429  24000.0   8950\n",
              "1430  23000.0   8450\n",
              "1431  20544.0   7500\n",
              "1433  17016.0   8500\n",
              "1435      1.0   6950\n",
              "\n",
              "[100 rows x 2 columns]"
            ]
          },
          "metadata": {
            "tags": []
          },
          "execution_count": 199
        }
      ]
    },
    {
      "cell_type": "code",
      "metadata": {
        "colab": {
          "base_uri": "https://localhost:8080/"
        },
        "id": "pvXDfsFNFjnv",
        "outputId": "aa9b755c-f785-471f-9eed-3be02f34b882"
      },
      "source": [
        "data = data[:-100]\n",
        "data.info()"
      ],
      "execution_count": 200,
      "outputs": [
        {
          "output_type": "stream",
          "text": [
            "<class 'pandas.core.frame.DataFrame'>\n",
            "Int64Index: 1321 entries, 0 to 1330\n",
            "Data columns (total 2 columns):\n",
            " #   Column  Non-Null Count  Dtype  \n",
            "---  ------  --------------  -----  \n",
            " 0   x       1321 non-null   float64\n",
            " 1   r       1321 non-null   int64  \n",
            "dtypes: float64(1), int64(1)\n",
            "memory usage: 31.0 KB\n"
          ],
          "name": "stdout"
        }
      ]
    },
    {
      "cell_type": "code",
      "metadata": {
        "colab": {
          "base_uri": "https://localhost:8080/",
          "height": 424
        },
        "id": "jVrcldikxphl",
        "outputId": "e18e50bc-897b-475f-9c25-69baca2de43f"
      },
      "source": [
        "data"
      ],
      "execution_count": 201,
      "outputs": [
        {
          "output_type": "execute_result",
          "data": {
            "text/html": [
              "<div>\n",
              "<style scoped>\n",
              "    .dataframe tbody tr th:only-of-type {\n",
              "        vertical-align: middle;\n",
              "    }\n",
              "\n",
              "    .dataframe tbody tr th {\n",
              "        vertical-align: top;\n",
              "    }\n",
              "\n",
              "    .dataframe thead th {\n",
              "        text-align: right;\n",
              "    }\n",
              "</style>\n",
              "<table border=\"1\" class=\"dataframe\">\n",
              "  <thead>\n",
              "    <tr style=\"text-align: right;\">\n",
              "      <th></th>\n",
              "      <th>x</th>\n",
              "      <th>r</th>\n",
              "    </tr>\n",
              "  </thead>\n",
              "  <tbody>\n",
              "    <tr>\n",
              "      <th>0</th>\n",
              "      <td>46986.0</td>\n",
              "      <td>13500</td>\n",
              "    </tr>\n",
              "    <tr>\n",
              "      <th>1</th>\n",
              "      <td>72937.0</td>\n",
              "      <td>13750</td>\n",
              "    </tr>\n",
              "    <tr>\n",
              "      <th>2</th>\n",
              "      <td>41711.0</td>\n",
              "      <td>13950</td>\n",
              "    </tr>\n",
              "    <tr>\n",
              "      <th>3</th>\n",
              "      <td>48000.0</td>\n",
              "      <td>14950</td>\n",
              "    </tr>\n",
              "    <tr>\n",
              "      <th>4</th>\n",
              "      <td>38500.0</td>\n",
              "      <td>13750</td>\n",
              "    </tr>\n",
              "    <tr>\n",
              "      <th>...</th>\n",
              "      <td>...</td>\n",
              "      <td>...</td>\n",
              "    </tr>\n",
              "    <tr>\n",
              "      <th>1326</th>\n",
              "      <td>65950.0</td>\n",
              "      <td>7400</td>\n",
              "    </tr>\n",
              "    <tr>\n",
              "      <th>1327</th>\n",
              "      <td>65500.0</td>\n",
              "      <td>8950</td>\n",
              "    </tr>\n",
              "    <tr>\n",
              "      <th>1328</th>\n",
              "      <td>65307.0</td>\n",
              "      <td>6900</td>\n",
              "    </tr>\n",
              "    <tr>\n",
              "      <th>1329</th>\n",
              "      <td>65254.0</td>\n",
              "      <td>7750</td>\n",
              "    </tr>\n",
              "    <tr>\n",
              "      <th>1330</th>\n",
              "      <td>65021.0</td>\n",
              "      <td>8950</td>\n",
              "    </tr>\n",
              "  </tbody>\n",
              "</table>\n",
              "<p>1321 rows × 2 columns</p>\n",
              "</div>"
            ],
            "text/plain": [
              "            x      r\n",
              "0     46986.0  13500\n",
              "1     72937.0  13750\n",
              "2     41711.0  13950\n",
              "3     48000.0  14950\n",
              "4     38500.0  13750\n",
              "...       ...    ...\n",
              "1326  65950.0   7400\n",
              "1327  65500.0   8950\n",
              "1328  65307.0   6900\n",
              "1329  65254.0   7750\n",
              "1330  65021.0   8950\n",
              "\n",
              "[1321 rows x 2 columns]"
            ]
          },
          "metadata": {
            "tags": []
          },
          "execution_count": 201
        }
      ]
    },
    {
      "cell_type": "code",
      "metadata": {
        "id": "DPaIDlZrKOtK"
      },
      "source": [
        "size = data['x'].size"
      ],
      "execution_count": 202,
      "outputs": []
    },
    {
      "cell_type": "code",
      "metadata": {
        "colab": {
          "base_uri": "https://localhost:8080/",
          "height": 299
        },
        "id": "iZDvK5Wd7gjw",
        "outputId": "2e8d5614-184c-4876-d185-a5d7cc7420fc"
      },
      "source": [
        "plt.scatter(data['x'],data['r'])\n",
        "plt.title('Scatter')"
      ],
      "execution_count": 203,
      "outputs": [
        {
          "output_type": "execute_result",
          "data": {
            "text/plain": [
              "Text(0.5, 1.0, 'Scatter')"
            ]
          },
          "metadata": {
            "tags": []
          },
          "execution_count": 203
        },
        {
          "output_type": "display_data",
          "data": {
            "image/png": "[encoded data removed]",
            "text/plain": [
              "<Figure size 432x288 with 1 Axes>"
            ]
          },
          "metadata": {
            "tags": [],
            "needs_background": "light"
          }
        }
      ]
    },
    {
      "cell_type": "code",
      "metadata": {
        "id": "VZmViFXJ-6AW",
        "colab": {
          "base_uri": "https://localhost:8080/",
          "height": 424
        },
        "outputId": "12613883-229a-4735-dda5-cc59d7a517f7"
      },
      "source": [
        "data['x_sqr'] = data['x']**2\n",
        "data"
      ],
      "execution_count": 204,
      "outputs": [
        {
          "output_type": "execute_result",
          "data": {
            "text/html": [
              "<div>\n",
              "<style scoped>\n",
              "    .dataframe tbody tr th:only-of-type {\n",
              "        vertical-align: middle;\n",
              "    }\n",
              "\n",
              "    .dataframe tbody tr th {\n",
              "        vertical-align: top;\n",
              "    }\n",
              "\n",
              "    .dataframe thead th {\n",
              "        text-align: right;\n",
              "    }\n",
              "</style>\n",
              "<table border=\"1\" class=\"dataframe\">\n",
              "  <thead>\n",
              "    <tr style=\"text-align: right;\">\n",
              "      <th></th>\n",
              "      <th>x</th>\n",
              "      <th>r</th>\n",
              "      <th>x_sqr</th>\n",
              "    </tr>\n",
              "  </thead>\n",
              "  <tbody>\n",
              "    <tr>\n",
              "      <th>0</th>\n",
              "      <td>46986.0</td>\n",
              "      <td>13500</td>\n",
              "      <td>2.207684e+09</td>\n",
              "    </tr>\n",
              "    <tr>\n",
              "      <th>1</th>\n",
              "      <td>72937.0</td>\n",
              "      <td>13750</td>\n",
              "      <td>5.319806e+09</td>\n",
              "    </tr>\n",
              "    <tr>\n",
              "      <th>2</th>\n",
              "      <td>41711.0</td>\n",
              "      <td>13950</td>\n",
              "      <td>1.739808e+09</td>\n",
              "    </tr>\n",
              "    <tr>\n",
              "      <th>3</th>\n",
              "      <td>48000.0</td>\n",
              "      <td>14950</td>\n",
              "      <td>2.304000e+09</td>\n",
              "    </tr>\n",
              "    <tr>\n",
              "      <th>4</th>\n",
              "      <td>38500.0</td>\n",
              "      <td>13750</td>\n",
              "      <td>1.482250e+09</td>\n",
              "    </tr>\n",
              "    <tr>\n",
              "      <th>...</th>\n",
              "      <td>...</td>\n",
              "      <td>...</td>\n",
              "      <td>...</td>\n",
              "    </tr>\n",
              "    <tr>\n",
              "      <th>1326</th>\n",
              "      <td>65950.0</td>\n",
              "      <td>7400</td>\n",
              "      <td>4.349402e+09</td>\n",
              "    </tr>\n",
              "    <tr>\n",
              "      <th>1327</th>\n",
              "      <td>65500.0</td>\n",
              "      <td>8950</td>\n",
              "      <td>4.290250e+09</td>\n",
              "    </tr>\n",
              "    <tr>\n",
              "      <th>1328</th>\n",
              "      <td>65307.0</td>\n",
              "      <td>6900</td>\n",
              "      <td>4.265004e+09</td>\n",
              "    </tr>\n",
              "    <tr>\n",
              "      <th>1329</th>\n",
              "      <td>65254.0</td>\n",
              "      <td>7750</td>\n",
              "      <td>4.258085e+09</td>\n",
              "    </tr>\n",
              "    <tr>\n",
              "      <th>1330</th>\n",
              "      <td>65021.0</td>\n",
              "      <td>8950</td>\n",
              "      <td>4.227730e+09</td>\n",
              "    </tr>\n",
              "  </tbody>\n",
              "</table>\n",
              "<p>1321 rows × 3 columns</p>\n",
              "</div>"
            ],
            "text/plain": [
              "            x      r         x_sqr\n",
              "0     46986.0  13500  2.207684e+09\n",
              "1     72937.0  13750  5.319806e+09\n",
              "2     41711.0  13950  1.739808e+09\n",
              "3     48000.0  14950  2.304000e+09\n",
              "4     38500.0  13750  1.482250e+09\n",
              "...       ...    ...           ...\n",
              "1326  65950.0   7400  4.349402e+09\n",
              "1327  65500.0   8950  4.290250e+09\n",
              "1328  65307.0   6900  4.265004e+09\n",
              "1329  65254.0   7750  4.258085e+09\n",
              "1330  65021.0   8950  4.227730e+09\n",
              "\n",
              "[1321 rows x 3 columns]"
            ]
          },
          "metadata": {
            "tags": []
          },
          "execution_count": 204
        }
      ]
    },
    {
      "cell_type": "code",
      "metadata": {
        "colab": {
          "base_uri": "https://localhost:8080/",
          "height": 424
        },
        "id": "vgrp8FAPjnil",
        "outputId": "d13e672e-61a7-4766-fae2-c04e981549a6"
      },
      "source": [
        "data['r_sqr'] = data['r']**2\n",
        "data"
      ],
      "execution_count": 205,
      "outputs": [
        {
          "output_type": "execute_result",
          "data": {
            "text/html": [
              "<div>\n",
              "<style scoped>\n",
              "    .dataframe tbody tr th:only-of-type {\n",
              "        vertical-align: middle;\n",
              "    }\n",
              "\n",
              "    .dataframe tbody tr th {\n",
              "        vertical-align: top;\n",
              "    }\n",
              "\n",
              "    .dataframe thead th {\n",
              "        text-align: right;\n",
              "    }\n",
              "</style>\n",
              "<table border=\"1\" class=\"dataframe\">\n",
              "  <thead>\n",
              "    <tr style=\"text-align: right;\">\n",
              "      <th></th>\n",
              "      <th>x</th>\n",
              "      <th>r</th>\n",
              "      <th>x_sqr</th>\n",
              "      <th>r_sqr</th>\n",
              "    </tr>\n",
              "  </thead>\n",
              "  <tbody>\n",
              "    <tr>\n",
              "      <th>0</th>\n",
              "      <td>46986.0</td>\n",
              "      <td>13500</td>\n",
              "      <td>2.207684e+09</td>\n",
              "      <td>182250000</td>\n",
              "    </tr>\n",
              "    <tr>\n",
              "      <th>1</th>\n",
              "      <td>72937.0</td>\n",
              "      <td>13750</td>\n",
              "      <td>5.319806e+09</td>\n",
              "      <td>189062500</td>\n",
              "    </tr>\n",
              "    <tr>\n",
              "      <th>2</th>\n",
              "      <td>41711.0</td>\n",
              "      <td>13950</td>\n",
              "      <td>1.739808e+09</td>\n",
              "      <td>194602500</td>\n",
              "    </tr>\n",
              "    <tr>\n",
              "      <th>3</th>\n",
              "      <td>48000.0</td>\n",
              "      <td>14950</td>\n",
              "      <td>2.304000e+09</td>\n",
              "      <td>223502500</td>\n",
              "    </tr>\n",
              "    <tr>\n",
              "      <th>4</th>\n",
              "      <td>38500.0</td>\n",
              "      <td>13750</td>\n",
              "      <td>1.482250e+09</td>\n",
              "      <td>189062500</td>\n",
              "    </tr>\n",
              "    <tr>\n",
              "      <th>...</th>\n",
              "      <td>...</td>\n",
              "      <td>...</td>\n",
              "      <td>...</td>\n",
              "      <td>...</td>\n",
              "    </tr>\n",
              "    <tr>\n",
              "      <th>1326</th>\n",
              "      <td>65950.0</td>\n",
              "      <td>7400</td>\n",
              "      <td>4.349402e+09</td>\n",
              "      <td>54760000</td>\n",
              "    </tr>\n",
              "    <tr>\n",
              "      <th>1327</th>\n",
              "      <td>65500.0</td>\n",
              "      <td>8950</td>\n",
              "      <td>4.290250e+09</td>\n",
              "      <td>80102500</td>\n",
              "    </tr>\n",
              "    <tr>\n",
              "      <th>1328</th>\n",
              "      <td>65307.0</td>\n",
              "      <td>6900</td>\n",
              "      <td>4.265004e+09</td>\n",
              "      <td>47610000</td>\n",
              "    </tr>\n",
              "    <tr>\n",
              "      <th>1329</th>\n",
              "      <td>65254.0</td>\n",
              "      <td>7750</td>\n",
              "      <td>4.258085e+09</td>\n",
              "      <td>60062500</td>\n",
              "    </tr>\n",
              "    <tr>\n",
              "      <th>1330</th>\n",
              "      <td>65021.0</td>\n",
              "      <td>8950</td>\n",
              "      <td>4.227730e+09</td>\n",
              "      <td>80102500</td>\n",
              "    </tr>\n",
              "  </tbody>\n",
              "</table>\n",
              "<p>1321 rows × 4 columns</p>\n",
              "</div>"
            ],
            "text/plain": [
              "            x      r         x_sqr      r_sqr\n",
              "0     46986.0  13500  2.207684e+09  182250000\n",
              "1     72937.0  13750  5.319806e+09  189062500\n",
              "2     41711.0  13950  1.739808e+09  194602500\n",
              "3     48000.0  14950  2.304000e+09  223502500\n",
              "4     38500.0  13750  1.482250e+09  189062500\n",
              "...       ...    ...           ...        ...\n",
              "1326  65950.0   7400  4.349402e+09   54760000\n",
              "1327  65500.0   8950  4.290250e+09   80102500\n",
              "1328  65307.0   6900  4.265004e+09   47610000\n",
              "1329  65254.0   7750  4.258085e+09   60062500\n",
              "1330  65021.0   8950  4.227730e+09   80102500\n",
              "\n",
              "[1321 rows x 4 columns]"
            ]
          },
          "metadata": {
            "tags": []
          },
          "execution_count": 205
        }
      ]
    },
    {
      "cell_type": "code",
      "metadata": {
        "id": "4a4KLdqK7_XH"
      },
      "source": [
        "data['xr'] = data['x']*data['r']"
      ],
      "execution_count": 206,
      "outputs": []
    },
    {
      "cell_type": "code",
      "metadata": {
        "colab": {
          "base_uri": "https://localhost:8080/",
          "height": 424
        },
        "id": "FXAeoXZk-71V",
        "outputId": "252a5e1c-f45c-448a-a4ad-bb12d0eade55"
      },
      "source": [
        "data"
      ],
      "execution_count": 207,
      "outputs": [
        {
          "output_type": "execute_result",
          "data": {
            "text/html": [
              "<div>\n",
              "<style scoped>\n",
              "    .dataframe tbody tr th:only-of-type {\n",
              "        vertical-align: middle;\n",
              "    }\n",
              "\n",
              "    .dataframe tbody tr th {\n",
              "        vertical-align: top;\n",
              "    }\n",
              "\n",
              "    .dataframe thead th {\n",
              "        text-align: right;\n",
              "    }\n",
              "</style>\n",
              "<table border=\"1\" class=\"dataframe\">\n",
              "  <thead>\n",
              "    <tr style=\"text-align: right;\">\n",
              "      <th></th>\n",
              "      <th>x</th>\n",
              "      <th>r</th>\n",
              "      <th>x_sqr</th>\n",
              "      <th>r_sqr</th>\n",
              "      <th>xr</th>\n",
              "    </tr>\n",
              "  </thead>\n",
              "  <tbody>\n",
              "    <tr>\n",
              "      <th>0</th>\n",
              "      <td>46986.0</td>\n",
              "      <td>13500</td>\n",
              "      <td>2.207684e+09</td>\n",
              "      <td>182250000</td>\n",
              "      <td>6.343110e+08</td>\n",
              "    </tr>\n",
              "    <tr>\n",
              "      <th>1</th>\n",
              "      <td>72937.0</td>\n",
              "      <td>13750</td>\n",
              "      <td>5.319806e+09</td>\n",
              "      <td>189062500</td>\n",
              "      <td>1.002884e+09</td>\n",
              "    </tr>\n",
              "    <tr>\n",
              "      <th>2</th>\n",
              "      <td>41711.0</td>\n",
              "      <td>13950</td>\n",
              "      <td>1.739808e+09</td>\n",
              "      <td>194602500</td>\n",
              "      <td>5.818684e+08</td>\n",
              "    </tr>\n",
              "    <tr>\n",
              "      <th>3</th>\n",
              "      <td>48000.0</td>\n",
              "      <td>14950</td>\n",
              "      <td>2.304000e+09</td>\n",
              "      <td>223502500</td>\n",
              "      <td>7.176000e+08</td>\n",
              "    </tr>\n",
              "    <tr>\n",
              "      <th>4</th>\n",
              "      <td>38500.0</td>\n",
              "      <td>13750</td>\n",
              "      <td>1.482250e+09</td>\n",
              "      <td>189062500</td>\n",
              "      <td>5.293750e+08</td>\n",
              "    </tr>\n",
              "    <tr>\n",
              "      <th>...</th>\n",
              "      <td>...</td>\n",
              "      <td>...</td>\n",
              "      <td>...</td>\n",
              "      <td>...</td>\n",
              "      <td>...</td>\n",
              "    </tr>\n",
              "    <tr>\n",
              "      <th>1326</th>\n",
              "      <td>65950.0</td>\n",
              "      <td>7400</td>\n",
              "      <td>4.349402e+09</td>\n",
              "      <td>54760000</td>\n",
              "      <td>4.880300e+08</td>\n",
              "    </tr>\n",
              "    <tr>\n",
              "      <th>1327</th>\n",
              "      <td>65500.0</td>\n",
              "      <td>8950</td>\n",
              "      <td>4.290250e+09</td>\n",
              "      <td>80102500</td>\n",
              "      <td>5.862250e+08</td>\n",
              "    </tr>\n",
              "    <tr>\n",
              "      <th>1328</th>\n",
              "      <td>65307.0</td>\n",
              "      <td>6900</td>\n",
              "      <td>4.265004e+09</td>\n",
              "      <td>47610000</td>\n",
              "      <td>4.506183e+08</td>\n",
              "    </tr>\n",
              "    <tr>\n",
              "      <th>1329</th>\n",
              "      <td>65254.0</td>\n",
              "      <td>7750</td>\n",
              "      <td>4.258085e+09</td>\n",
              "      <td>60062500</td>\n",
              "      <td>5.057185e+08</td>\n",
              "    </tr>\n",
              "    <tr>\n",
              "      <th>1330</th>\n",
              "      <td>65021.0</td>\n",
              "      <td>8950</td>\n",
              "      <td>4.227730e+09</td>\n",
              "      <td>80102500</td>\n",
              "      <td>5.819380e+08</td>\n",
              "    </tr>\n",
              "  </tbody>\n",
              "</table>\n",
              "<p>1321 rows × 5 columns</p>\n",
              "</div>"
            ],
            "text/plain": [
              "            x      r         x_sqr      r_sqr            xr\n",
              "0     46986.0  13500  2.207684e+09  182250000  6.343110e+08\n",
              "1     72937.0  13750  5.319806e+09  189062500  1.002884e+09\n",
              "2     41711.0  13950  1.739808e+09  194602500  5.818684e+08\n",
              "3     48000.0  14950  2.304000e+09  223502500  7.176000e+08\n",
              "4     38500.0  13750  1.482250e+09  189062500  5.293750e+08\n",
              "...       ...    ...           ...        ...           ...\n",
              "1326  65950.0   7400  4.349402e+09   54760000  4.880300e+08\n",
              "1327  65500.0   8950  4.290250e+09   80102500  5.862250e+08\n",
              "1328  65307.0   6900  4.265004e+09   47610000  4.506183e+08\n",
              "1329  65254.0   7750  4.258085e+09   60062500  5.057185e+08\n",
              "1330  65021.0   8950  4.227730e+09   80102500  5.819380e+08\n",
              "\n",
              "[1321 rows x 5 columns]"
            ]
          },
          "metadata": {
            "tags": []
          },
          "execution_count": 207
        }
      ]
    },
    {
      "cell_type": "code",
      "metadata": {
        "colab": {
          "base_uri": "https://localhost:8080/"
        },
        "id": "Tlkn0NGElB4Y",
        "outputId": "0901ef78-8ac5-4e73-8dbe-496d2bf042d2"
      },
      "source": [
        "(sum(data['x_sqr'])-(sum(data['x'])**2/size))"
      ],
      "execution_count": 208,
      "outputs": [
        {
          "output_type": "execute_result",
          "data": {
            "text/plain": [
              "1933293812752.7734"
            ]
          },
          "metadata": {
            "tags": []
          },
          "execution_count": 208
        }
      ]
    },
    {
      "cell_type": "code",
      "metadata": {
        "colab": {
          "base_uri": "https://localhost:8080/"
        },
        "id": "yGDe44Sp8UDx",
        "outputId": "3fc31a42-0385-4e9c-ce1c-e2c8cb5e7968"
      },
      "source": [
        "w1 = (sum(data['xr']) - sum(data['x'])*sum(data['r']/size)) / (sum(data['x_sqr'])-(sum(data['x'])**2/size))\n",
        "w1"
      ],
      "execution_count": 209,
      "outputs": [
        {
          "output_type": "execute_result",
          "data": {
            "text/plain": [
              "-0.05878823624952209"
            ]
          },
          "metadata": {
            "tags": []
          },
          "execution_count": 209
        }
      ]
    },
    {
      "cell_type": "code",
      "metadata": {
        "colab": {
          "base_uri": "https://localhost:8080/"
        },
        "id": "DbN1zMK88ckO",
        "outputId": "b661c785-7281-4a50-e3ea-f1c8a2124015"
      },
      "source": [
        "w0 = sum(data['r'])/size - w1*sum(data['x'])/size\n",
        "w0"
      ],
      "execution_count": 210,
      "outputs": [
        {
          "output_type": "execute_result",
          "data": {
            "text/plain": [
              "14998.874935686585"
            ]
          },
          "metadata": {
            "tags": []
          },
          "execution_count": 210
        }
      ]
    },
    {
      "cell_type": "code",
      "metadata": {
        "id": "blGsnIAa9-2L"
      },
      "source": [
        "predicted = w0+w1*data['x']"
      ],
      "execution_count": 211,
      "outputs": []
    },
    {
      "cell_type": "code",
      "metadata": {
        "colab": {
          "base_uri": "https://localhost:8080/"
        },
        "id": "3_nFOvKiG3SW",
        "outputId": "bb565135-7e26-4d68-eed8-ccbe4512ab99"
      },
      "source": [
        "predicted"
      ],
      "execution_count": 212,
      "outputs": [
        {
          "output_type": "execute_result",
          "data": {
            "text/plain": [
              "0       12236.650867\n",
              "1       10711.037348\n",
              "2       12546.758813\n",
              "3       12177.039596\n",
              "4       12735.527840\n",
              "            ...     \n",
              "1326    11121.790755\n",
              "1327    11148.245461\n",
              "1328    11159.591591\n",
              "1329    11162.707367\n",
              "1330    11176.405027\n",
              "Name: x, Length: 1321, dtype: float64"
            ]
          },
          "metadata": {
            "tags": []
          },
          "execution_count": 212
        }
      ]
    },
    {
      "cell_type": "code",
      "metadata": {
        "id": "xbCYftfkHSl6",
        "colab": {
          "base_uri": "https://localhost:8080/",
          "height": 297
        },
        "outputId": "693ef9c7-b8f0-47a2-b717-0390519ea4be"
      },
      "source": [
        "\n",
        "sns.regplot(x = 'x',y = 'r',data = data,fit_reg=False)#.set(xlim=(0,10),ylim=(0,10))\n",
        "\n",
        "sns.regplot(x = 'x',y = predicted,data = data)\n"
      ],
      "execution_count": 213,
      "outputs": [
        {
          "output_type": "execute_result",
          "data": {
            "text/plain": [
              "<matplotlib.axes._subplots.AxesSubplot at 0x7f96951be450>"
            ]
          },
          "metadata": {
            "tags": []
          },
          "execution_count": 213
        },
        {
          "output_type": "display_data",
          "data": {
            "image/png": "[encoded data removed]",
            "text/plain": [
              "<Figure size 432x288 with 1 Axes>"
            ]
          },
          "metadata": {
            "tags": [],
            "needs_background": "light"
          }
        }
      ]
    },
    {
      "cell_type": "code",
      "metadata": {
        "id": "NUQpfi9zG4W7"
      },
      "source": [
        "error = sum((data['r']-predicted)**2)/size"
      ],
      "execution_count": 214,
      "outputs": []
    },
    {
      "cell_type": "code",
      "metadata": {
        "colab": {
          "base_uri": "https://localhost:8080/"
        },
        "id": "rHUqZdXQHR-v",
        "outputId": "827731fe-3141-4fad-e5ca-68ec02e14602"
      },
      "source": [
        "error"
      ],
      "execution_count": 215,
      "outputs": [
        {
          "output_type": "execute_result",
          "data": {
            "text/plain": [
              "8215645.610687097"
            ]
          },
          "metadata": {
            "tags": []
          },
          "execution_count": 215
        }
      ]
    },
    {
      "cell_type": "code",
      "metadata": {
        "id": "nTkaMf8vs30z"
      },
      "source": [
        "test_predicted = w0+w1*test_data['x']"
      ],
      "execution_count": 216,
      "outputs": []
    },
    {
      "cell_type": "code",
      "metadata": {
        "id": "e3WTWBtEu3vM"
      },
      "source": [
        "test_size = data['x'].size"
      ],
      "execution_count": 217,
      "outputs": []
    },
    {
      "cell_type": "code",
      "metadata": {
        "colab": {
          "base_uri": "https://localhost:8080/",
          "height": 297
        },
        "id": "isZeyfw_ulXq",
        "outputId": "234807f4-767f-4f52-b049-539d0acad500"
      },
      "source": [
        "\n",
        "sns.regplot(x = 'x',y = 'r',data = test_data,fit_reg=False)#.set(xlim=(0,10),ylim=(0,10))\n",
        "\n",
        "sns.regplot(x = 'x',y = test_predicted,data = test_data)\n"
      ],
      "execution_count": 218,
      "outputs": [
        {
          "output_type": "execute_result",
          "data": {
            "text/plain": [
              "<matplotlib.axes._subplots.AxesSubplot at 0x7f96948ec650>"
            ]
          },
          "metadata": {
            "tags": []
          },
          "execution_count": 218
        },
        {
          "output_type": "display_data",
          "data": {
            "image/png": "[encoded data removed]",
            "text/plain": [
              "<Figure size 432x288 with 1 Axes>"
            ]
          },
          "metadata": {
            "tags": [],
            "needs_background": "light"
          }
        }
      ]
    },
    {
      "cell_type": "code",
      "metadata": {
        "colab": {
          "base_uri": "https://localhost:8080/"
        },
        "id": "Bxrs37cQupZw",
        "outputId": "ce26e98b-52bc-440f-f3ea-13a84370b147"
      },
      "source": [
        "error = sum((test_data['r']-test_predicted)**2)/test_size\n",
        "error"
      ],
      "execution_count": 220,
      "outputs": [
        {
          "output_type": "execute_result",
          "data": {
            "text/plain": [
              "1125365.2363215038"
            ]
          },
          "metadata": {
            "tags": []
          },
          "execution_count": 220
        }
      ]
    },
    {
      "cell_type": "code",
      "metadata": {
        "id": "UR4-pihfvKZj"
      },
      "source": [
        ""
      ],
      "execution_count": null,
      "outputs": []
    }
  ]
}