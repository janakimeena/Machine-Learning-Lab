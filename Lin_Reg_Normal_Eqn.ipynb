{
  "nbformat": 4,
  "nbformat_minor": 0,
  "metadata": {
    "colab": {
      "name": "Lin_Reg_Normal_Eqn.ipynb",
      "provenance": [],
      "collapsed_sections": [],
      "include_colab_link": true
    },
    "kernelspec": {
      "name": "python3",
      "display_name": "Python 3"
    }
  },
  "cells": [
    {
      "cell_type": "markdown",
      "metadata": {
        "id": "view-in-github",
        "colab_type": "text"
      },
      "source": [
        "<a href=\"https://colab.research.google.com/github/janakimeena/Machine-Learning-Lab/blob/master/Lin_Reg_Normal_Eqn.ipynb\" target=\"_parent\"><img src=\"https://colab.research.google.com/assets/colab-badge.svg\" alt=\"Open In Colab\"/></a>"
      ]
    },
    {
      "cell_type": "markdown",
      "metadata": {
        "id": "uL3CukNKKlNk",
        "colab_type": "text"
      },
      "source": [
        "# Linear Regression with Normal Equation"
      ]
    },
    {
      "cell_type": "code",
      "metadata": {
        "id": "g1m4_5GFkXpk",
        "colab_type": "code",
        "colab": {}
      },
      "source": [
        "import numpy as np\n",
        "from sklearn.metrics import accuracy_score,confusion_matrix,mean_squared_error,mean_absolute_error,r2_score"
      ],
      "execution_count": 0,
      "outputs": []
    },
    {
      "cell_type": "code",
      "metadata": {
        "id": "ciXANKRoF-Z3",
        "colab_type": "code",
        "colab": {}
      },
      "source": [
        "\n",
        "X,y = np.loadtxt('ex1data1.txt', delimiter=',', unpack=True)\n",
        "data = np.genfromtxt('ex1data1.txt', delimiter=',')\n",
        "m = len(y)\n"
      ],
      "execution_count": 0,
      "outputs": []
    },
    {
      "cell_type": "code",
      "metadata": {
        "id": "Xv3HhLleGDk2",
        "colab_type": "code",
        "colab": {}
      },
      "source": [
        "class LR_Norm_Eqn:\n",
        "\n",
        "  def __init__(self):\n",
        "    # This is the feature / parameter (2x2) vector that will\n",
        "    # contain my minimized values\n",
        "    self.theta = np.zeros([2,1])    \n",
        "  \n",
        "  \n",
        "  def predict(self, X, y):\n",
        "    temp = np.dot(X, self.theta) - y\n",
        "    return np.sum(np.power(temp, 2)) / (2*m)\n",
        "\n",
        "\n",
        "  def fit(self,X,y):\n",
        "    m = int(np.size(data[:, 1]))       \n",
        "    # Create a bias_vector to add to newly created X vector\n",
        "    bias_vector = np.ones((m, 1))\n",
        "\n",
        "    # Reshape the original X(m,) vector so that we\n",
        "    # manipulate it with bias_vector; they need to share the same dimensions.\n",
        "    X = np.reshape(X, (m, 1))\n",
        "\n",
        "    # Combine these two vectors together to get a (m, 2) matrix\n",
        "    X = np.append(bias_vector, X, axis=1)\n",
        "\n",
        "    # Normal Equation:  theta = inv(X^T * X) * X^T * y\n",
        "    \n",
        "    X_transpose = np.transpose(X)\n",
        "    \n",
        "    self.theta = np.linalg.inv(X_transpose.dot(X))\n",
        "\n",
        "    self.theta = np.dot(self.theta,X_transpose)\n",
        "    self.theta = np.array(np.dot(self.theta,y))\n",
        "    return self.theta"
      ],
      "execution_count": 0,
      "outputs": []
    },
    {
      "cell_type": "code",
      "metadata": {
        "id": "afQkriNqG6lb",
        "colab_type": "code",
        "outputId": "ad23bf48-7a33-448b-883c-a2e80011e393",
        "colab": {
          "base_uri": "https://localhost:8080/",
          "height": 367
        }
      },
      "source": [
        "lin = LR_Norm_Eqn()\n",
        "print('theta is ',lin.fit(X,y))\n",
        "print(lin.predict(X,y))"
      ],
      "execution_count": 0,
      "outputs": [
        {
          "output_type": "stream",
          "text": [
            "theta is  [-3.89578088  1.19303364]\n"
          ],
          "name": "stdout"
        },
        {
          "output_type": "error",
          "ename": "ValueError",
          "evalue": "ignored",
          "traceback": [
            "\u001b[0;31m---------------------------------------------------------------------------\u001b[0m",
            "\u001b[0;31mValueError\u001b[0m                                Traceback (most recent call last)",
            "\u001b[0;32m<ipython-input-30-1532d203df64>\u001b[0m in \u001b[0;36m<module>\u001b[0;34m()\u001b[0m\n\u001b[1;32m      1\u001b[0m \u001b[0mlin\u001b[0m \u001b[0;34m=\u001b[0m \u001b[0mLR_Norm_Eqn\u001b[0m\u001b[0;34m(\u001b[0m\u001b[0;34m)\u001b[0m\u001b[0;34m\u001b[0m\u001b[0;34m\u001b[0m\u001b[0m\n\u001b[1;32m      2\u001b[0m \u001b[0mprint\u001b[0m\u001b[0;34m(\u001b[0m\u001b[0;34m'theta is '\u001b[0m\u001b[0;34m,\u001b[0m\u001b[0mlin\u001b[0m\u001b[0;34m.\u001b[0m\u001b[0mfit\u001b[0m\u001b[0;34m(\u001b[0m\u001b[0mX\u001b[0m\u001b[0;34m,\u001b[0m\u001b[0my\u001b[0m\u001b[0;34m)\u001b[0m\u001b[0;34m)\u001b[0m\u001b[0;34m\u001b[0m\u001b[0;34m\u001b[0m\u001b[0m\n\u001b[0;32m----> 3\u001b[0;31m \u001b[0mprint\u001b[0m\u001b[0;34m(\u001b[0m\u001b[0mlin\u001b[0m\u001b[0;34m.\u001b[0m\u001b[0mpredict\u001b[0m\u001b[0;34m(\u001b[0m\u001b[0mX\u001b[0m\u001b[0;34m,\u001b[0m\u001b[0my\u001b[0m\u001b[0;34m)\u001b[0m\u001b[0;34m)\u001b[0m\u001b[0;34m\u001b[0m\u001b[0;34m\u001b[0m\u001b[0m\n\u001b[0m",
            "\u001b[0;32m<ipython-input-29-773d427c60a4>\u001b[0m in \u001b[0;36mpredict\u001b[0;34m(self, X, y)\u001b[0m\n\u001b[1;32m      8\u001b[0m \u001b[0;34m\u001b[0m\u001b[0m\n\u001b[1;32m      9\u001b[0m   \u001b[0;32mdef\u001b[0m \u001b[0mpredict\u001b[0m\u001b[0;34m(\u001b[0m\u001b[0mself\u001b[0m\u001b[0;34m,\u001b[0m \u001b[0mX\u001b[0m\u001b[0;34m,\u001b[0m \u001b[0my\u001b[0m\u001b[0;34m)\u001b[0m\u001b[0;34m:\u001b[0m\u001b[0;34m\u001b[0m\u001b[0;34m\u001b[0m\u001b[0m\n\u001b[0;32m---> 10\u001b[0;31m     \u001b[0mtemp\u001b[0m \u001b[0;34m=\u001b[0m \u001b[0mnp\u001b[0m\u001b[0;34m.\u001b[0m\u001b[0mdot\u001b[0m\u001b[0;34m(\u001b[0m\u001b[0mX\u001b[0m\u001b[0;34m,\u001b[0m \u001b[0mself\u001b[0m\u001b[0;34m.\u001b[0m\u001b[0mtheta\u001b[0m\u001b[0;34m)\u001b[0m \u001b[0;34m-\u001b[0m \u001b[0my\u001b[0m\u001b[0;34m\u001b[0m\u001b[0;34m\u001b[0m\u001b[0m\n\u001b[0m\u001b[1;32m     11\u001b[0m     \u001b[0;32mreturn\u001b[0m \u001b[0mnp\u001b[0m\u001b[0;34m.\u001b[0m\u001b[0msum\u001b[0m\u001b[0;34m(\u001b[0m\u001b[0mnp\u001b[0m\u001b[0;34m.\u001b[0m\u001b[0mpower\u001b[0m\u001b[0;34m(\u001b[0m\u001b[0mtemp\u001b[0m\u001b[0;34m,\u001b[0m \u001b[0;36m2\u001b[0m\u001b[0;34m)\u001b[0m\u001b[0;34m)\u001b[0m \u001b[0;34m/\u001b[0m \u001b[0;34m(\u001b[0m\u001b[0;36m2\u001b[0m\u001b[0;34m*\u001b[0m\u001b[0mm\u001b[0m\u001b[0;34m)\u001b[0m\u001b[0;34m\u001b[0m\u001b[0;34m\u001b[0m\u001b[0m\n\u001b[1;32m     12\u001b[0m \u001b[0;34m\u001b[0m\u001b[0m\n",
            "\u001b[0;32m<__array_function__ internals>\u001b[0m in \u001b[0;36mdot\u001b[0;34m(*args, **kwargs)\u001b[0m\n",
            "\u001b[0;31mValueError\u001b[0m: shapes (97,) and (2,) not aligned: 97 (dim 0) != 2 (dim 0)"
          ]
        }
      ]
    },
    {
      "cell_type": "code",
      "metadata": {
        "id": "Wa5eQMojG9e4",
        "colab_type": "code",
        "outputId": "61068961-9d1c-4277-a0e4-ccdc76039b02",
        "colab": {
          "base_uri": "https://localhost:8080/",
          "height": 34
        }
      },
      "source": [
        "'''def predict(self, X, Y):\n",
        "    pred = []\n",
        "    for x,y in zip(X,Y):\n",
        "      temp = np.dot(x.T, self.theta) - y\n",
        "      pred.append(np.sum(np.power(temp, 2)) / (2*m))\n",
        "    return pred'''"
      ],
      "execution_count": 0,
      "outputs": [
        {
          "output_type": "execute_result",
          "data": {
            "text/plain": [
              "599.0436452475657"
            ]
          },
          "metadata": {
            "tags": []
          },
          "execution_count": 39
        }
      ]
    },
    {
      "cell_type": "code",
      "metadata": {
        "id": "1KXoa3qcLxXM",
        "colab_type": "code",
        "colab": {}
      },
      "source": [
        ""
      ],
      "execution_count": 0,
      "outputs": []
    }
  ]
}