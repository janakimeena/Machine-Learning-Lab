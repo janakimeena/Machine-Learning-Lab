{
  "nbformat": 4,
  "nbformat_minor": 0,
  "metadata": {
    "colab": {
      "name": "Lin_Reg_Normal_Eqn.ipynb",
      "provenance": [],
      "collapsed_sections": [],
      "include_colab_link": true
    },
    "kernelspec": {
      "name": "python3",
      "display_name": "Python 3"
    }
  },
  "cells": [
    {
      "cell_type": "markdown",
      "metadata": {
        "id": "view-in-github",
        "colab_type": "text"
      },
      "source": [
        "<a href=\"https://colab.research.google.com/github/janakimeena/Machine-Learning-Lab/blob/master/Lin_Reg_Normal_Eqn.ipynb\" target=\"_parent\"><img src=\"https://colab.research.google.com/assets/colab-badge.svg\" alt=\"Open In Colab\"/></a>"
      ]
    },
    {
      "cell_type": "markdown",
      "metadata": {
        "id": "uL3CukNKKlNk",
        "colab_type": "text"
      },
      "source": [
        "# Linear Regression with Normal Equation\n",
        "\n",
        "To implement Normal Equation\n",
        "If you compute above equation you will get value of W which minimize cost function.\n",
        "\n",
        "1.   Take examples\n",
        "2.   Add an extra column (x0 feature)\n",
        "3.   Construct a matrix (X — the design matrix) which contains all the training data features in an [m x n+1] matrix.\n",
        "4.  Do something similar for Y  \n",
        "5.  Construct a column vector y [m x 1] matrix\n",
        "6.  Using the following equation \n",
        "\n",
        "   $ W = (X^T*X)^{-1}*X^T*Y $"
      ]
    },
    {
      "cell_type": "code",
      "metadata": {
        "id": "g1m4_5GFkXpk",
        "colab_type": "code",
        "colab": {}
      },
      "source": [
        "import numpy as np\n",
        "from sklearn.metrics import accuracy_score,confusion_matrix,mean_squared_error,mean_absolute_error,r2_score"
      ],
      "execution_count": 0,
      "outputs": []
    },
    {
      "cell_type": "code",
      "metadata": {
        "id": "ciXANKRoF-Z3",
        "colab_type": "code",
        "colab": {}
      },
      "source": [
        "\n",
        "X,y = np.loadtxt('ex1data1.txt', delimiter=',', unpack=True)\n",
        "data = np.genfromtxt('ex1data1.txt', delimiter=',')\n",
        "m = len(y)\n",
        "X = X[:,np.newaxis]\n",
        "y = y[:,np.newaxis]\n",
        "ones = np.ones((m,1))\n",
        "X = np.hstack((ones, X)) # adding the intercept term"
      ],
      "execution_count": 0,
      "outputs": []
    },
    {
      "cell_type": "code",
      "metadata": {
        "id": "Xv3HhLleGDk2",
        "colab_type": "code",
        "colab": {}
      },
      "source": [
        "class LR_Norm_Eqn:\n",
        "\n",
        "  def __init__(self):\n",
        "    # This is the feature / parameter (2x2) vector that will\n",
        "    # contain my minimized values\n",
        "    self.theta = np.zeros([2,1])    \n",
        "  \n",
        "  \n",
        "  def predict(self, X, y):\n",
        "    temp = np.dot(X, self.theta) - y\n",
        "    return np.sum(np.power(temp, 2)) / (2*m)\n",
        "\n",
        "\n",
        "  def fit(self,X,y):    \n",
        "\n",
        "    # Normal Equation:  theta = inv(X^T * X) * X^T * y\n",
        "    \n",
        "    X_transpose = np.transpose(X)\n",
        "    \n",
        "    self.theta = np.linalg.inv(X_transpose.dot(X))\n",
        "\n",
        "    self.theta = np.dot(self.theta,X_transpose)\n",
        "    self.theta = np.dot(self.theta,y)\n",
        "    return self.theta"
      ],
      "execution_count": 0,
      "outputs": []
    },
    {
      "cell_type": "code",
      "metadata": {
        "id": "afQkriNqG6lb",
        "colab_type": "code",
        "outputId": "e0e3f0e4-acb1-4689-b498-dd6b9395da70",
        "colab": {
          "base_uri": "https://localhost:8080/",
          "height": 72
        }
      },
      "source": [
        "lin = LR_Norm_Eqn()\n",
        "print('theta is ',lin.fit(X,y))\n",
        "print(lin.predict(X,y))"
      ],
      "execution_count": 0,
      "outputs": [
        {
          "output_type": "stream",
          "text": [
            "theta is  [[-3.89578088]\n",
            " [ 1.19303364]]\n",
            "4.476971375975179\n"
          ],
          "name": "stdout"
        }
      ]
    },
    {
      "cell_type": "code",
      "metadata": {
        "id": "Wa5eQMojG9e4",
        "colab_type": "code",
        "colab": {}
      },
      "source": [
        ""
      ],
      "execution_count": 0,
      "outputs": []
    },
    {
      "cell_type": "code",
      "metadata": {
        "id": "1KXoa3qcLxXM",
        "colab_type": "code",
        "colab": {}
      },
      "source": [
        ""
      ],
      "execution_count": 0,
      "outputs": []
    }
  ]
}