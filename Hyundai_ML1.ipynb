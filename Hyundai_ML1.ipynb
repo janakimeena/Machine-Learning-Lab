{
  "nbformat": 4,
  "nbformat_minor": 0,
  "metadata": {
    "colab": {
      "name": "Hyundai_ML2.ipynb",
      "provenance": [],
      "collapsed_sections": []
    },
    "kernelspec": {
      "name": "python3",
      "display_name": "Python 3"
    },
    "language_info": {
      "name": "python"
    }
  },
  "cells": [
    {
      "cell_type": "code",
      "metadata": {
        "id": "vbB8bLYv60IB"
      },
      "source": [
        "import pandas as pd\n",
        "import matplotlib.pyplot as plt\n",
        "import seaborn as sns"
      ],
      "execution_count": 59,
      "outputs": []
    },
    {
      "cell_type": "code",
      "metadata": {
        "colab": {
          "base_uri": "https://localhost:8080/",
          "height": 206
        },
        "id": "acR9lsnX66wO",
        "outputId": "b850f973-c404-46cc-ec6a-a6fe6568d537"
      },
      "source": [
        "data = pd.read_excel('toyota_data4.xlsx') #read from dataset\n",
        "\n",
        "data.head() # view first few rows of the data"
      ],
      "execution_count": 60,
      "outputs": [
        {
          "output_type": "execute_result",
          "data": {
            "text/html": [
              "<div>\n",
              "<style scoped>\n",
              "    .dataframe tbody tr th:only-of-type {\n",
              "        vertical-align: middle;\n",
              "    }\n",
              "\n",
              "    .dataframe tbody tr th {\n",
              "        vertical-align: top;\n",
              "    }\n",
              "\n",
              "    .dataframe thead th {\n",
              "        text-align: right;\n",
              "    }\n",
              "</style>\n",
              "<table border=\"1\" class=\"dataframe\">\n",
              "  <thead>\n",
              "    <tr style=\"text-align: right;\">\n",
              "      <th></th>\n",
              "      <th>x</th>\n",
              "      <th>r</th>\n",
              "    </tr>\n",
              "  </thead>\n",
              "  <tbody>\n",
              "    <tr>\n",
              "      <th>0</th>\n",
              "      <td>23.0</td>\n",
              "      <td>13500</td>\n",
              "    </tr>\n",
              "    <tr>\n",
              "      <th>1</th>\n",
              "      <td>23.0</td>\n",
              "      <td>13750</td>\n",
              "    </tr>\n",
              "    <tr>\n",
              "      <th>2</th>\n",
              "      <td>24.0</td>\n",
              "      <td>13950</td>\n",
              "    </tr>\n",
              "    <tr>\n",
              "      <th>3</th>\n",
              "      <td>26.0</td>\n",
              "      <td>14950</td>\n",
              "    </tr>\n",
              "    <tr>\n",
              "      <th>4</th>\n",
              "      <td>30.0</td>\n",
              "      <td>13750</td>\n",
              "    </tr>\n",
              "  </tbody>\n",
              "</table>\n",
              "</div>"
            ],
            "text/plain": [
              "      x      r\n",
              "0  23.0  13500\n",
              "1  23.0  13750\n",
              "2  24.0  13950\n",
              "3  26.0  14950\n",
              "4  30.0  13750"
            ]
          },
          "metadata": {
            "tags": []
          },
          "execution_count": 60
        }
      ]
    },
    {
      "cell_type": "code",
      "metadata": {
        "colab": {
          "base_uri": "https://localhost:8080/"
        },
        "id": "pvXDfsFNFjnv",
        "outputId": "a2661c52-69a2-4581-9bad-65c428520e34"
      },
      "source": [
        "data.info()"
      ],
      "execution_count": 61,
      "outputs": [
        {
          "output_type": "stream",
          "text": [
            "<class 'pandas.core.frame.DataFrame'>\n",
            "RangeIndex: 1436 entries, 0 to 1435\n",
            "Data columns (total 2 columns):\n",
            " #   Column  Non-Null Count  Dtype  \n",
            "---  ------  --------------  -----  \n",
            " 0   x       1336 non-null   float64\n",
            " 1   r       1436 non-null   int64  \n",
            "dtypes: float64(1), int64(1)\n",
            "memory usage: 22.6 KB\n"
          ],
          "name": "stdout"
        }
      ]
    },
    {
      "cell_type": "code",
      "metadata": {
        "id": "4EeZTbnWF0PI"
      },
      "source": [
        "data = data.dropna()"
      ],
      "execution_count": 62,
      "outputs": []
    },
    {
      "cell_type": "code",
      "metadata": {
        "id": "DPaIDlZrKOtK"
      },
      "source": [
        "size = data['x'].size"
      ],
      "execution_count": 63,
      "outputs": []
    },
    {
      "cell_type": "code",
      "metadata": {
        "colab": {
          "base_uri": "https://localhost:8080/",
          "height": 299
        },
        "id": "iZDvK5Wd7gjw",
        "outputId": "781bfe30-6dce-43b4-e898-6a72a6c65b9a"
      },
      "source": [
        "plt.scatter(data['x'],data['r'])\n",
        "plt.title('Scatter')"
      ],
      "execution_count": 64,
      "outputs": [
        {
          "output_type": "execute_result",
          "data": {
            "text/plain": [
              "Text(0.5, 1.0, 'Scatter')"
            ]
          },
          "metadata": {
            "tags": []
          },
          "execution_count": 64
        },
        {
          "output_type": "display_data",
          "data": {
            "image/png": "[encoded data removed]",
            "text/plain": [
              "<Figure size 432x288 with 1 Axes>"
            ]
          },
          "metadata": {
            "tags": [],
            "needs_background": "light"
          }
        }
      ]
    },
    {
      "cell_type": "code",
      "metadata": {
        "id": "VZmViFXJ-6AW",
        "colab": {
          "base_uri": "https://localhost:8080/",
          "height": 424
        },
        "outputId": "255fe8d5-b563-48b6-9675-292ff85c76b8"
      },
      "source": [
        "data['x_sqr'] = data['x']**2\n",
        "data"
      ],
      "execution_count": 65,
      "outputs": [
        {
          "output_type": "execute_result",
          "data": {
            "text/html": [
              "<div>\n",
              "<style scoped>\n",
              "    .dataframe tbody tr th:only-of-type {\n",
              "        vertical-align: middle;\n",
              "    }\n",
              "\n",
              "    .dataframe tbody tr th {\n",
              "        vertical-align: top;\n",
              "    }\n",
              "\n",
              "    .dataframe thead th {\n",
              "        text-align: right;\n",
              "    }\n",
              "</style>\n",
              "<table border=\"1\" class=\"dataframe\">\n",
              "  <thead>\n",
              "    <tr style=\"text-align: right;\">\n",
              "      <th></th>\n",
              "      <th>x</th>\n",
              "      <th>r</th>\n",
              "      <th>x_sqr</th>\n",
              "    </tr>\n",
              "  </thead>\n",
              "  <tbody>\n",
              "    <tr>\n",
              "      <th>0</th>\n",
              "      <td>23.0</td>\n",
              "      <td>13500</td>\n",
              "      <td>529.0</td>\n",
              "    </tr>\n",
              "    <tr>\n",
              "      <th>1</th>\n",
              "      <td>23.0</td>\n",
              "      <td>13750</td>\n",
              "      <td>529.0</td>\n",
              "    </tr>\n",
              "    <tr>\n",
              "      <th>2</th>\n",
              "      <td>24.0</td>\n",
              "      <td>13950</td>\n",
              "      <td>576.0</td>\n",
              "    </tr>\n",
              "    <tr>\n",
              "      <th>3</th>\n",
              "      <td>26.0</td>\n",
              "      <td>14950</td>\n",
              "      <td>676.0</td>\n",
              "    </tr>\n",
              "    <tr>\n",
              "      <th>4</th>\n",
              "      <td>30.0</td>\n",
              "      <td>13750</td>\n",
              "      <td>900.0</td>\n",
              "    </tr>\n",
              "    <tr>\n",
              "      <th>...</th>\n",
              "      <td>...</td>\n",
              "      <td>...</td>\n",
              "      <td>...</td>\n",
              "    </tr>\n",
              "    <tr>\n",
              "      <th>1429</th>\n",
              "      <td>78.0</td>\n",
              "      <td>8950</td>\n",
              "      <td>6084.0</td>\n",
              "    </tr>\n",
              "    <tr>\n",
              "      <th>1430</th>\n",
              "      <td>80.0</td>\n",
              "      <td>8450</td>\n",
              "      <td>6400.0</td>\n",
              "    </tr>\n",
              "    <tr>\n",
              "      <th>1432</th>\n",
              "      <td>72.0</td>\n",
              "      <td>10845</td>\n",
              "      <td>5184.0</td>\n",
              "    </tr>\n",
              "    <tr>\n",
              "      <th>1434</th>\n",
              "      <td>70.0</td>\n",
              "      <td>7250</td>\n",
              "      <td>4900.0</td>\n",
              "    </tr>\n",
              "    <tr>\n",
              "      <th>1435</th>\n",
              "      <td>76.0</td>\n",
              "      <td>6950</td>\n",
              "      <td>5776.0</td>\n",
              "    </tr>\n",
              "  </tbody>\n",
              "</table>\n",
              "<p>1336 rows × 3 columns</p>\n",
              "</div>"
            ],
            "text/plain": [
              "         x      r   x_sqr\n",
              "0     23.0  13500   529.0\n",
              "1     23.0  13750   529.0\n",
              "2     24.0  13950   576.0\n",
              "3     26.0  14950   676.0\n",
              "4     30.0  13750   900.0\n",
              "...    ...    ...     ...\n",
              "1429  78.0   8950  6084.0\n",
              "1430  80.0   8450  6400.0\n",
              "1432  72.0  10845  5184.0\n",
              "1434  70.0   7250  4900.0\n",
              "1435  76.0   6950  5776.0\n",
              "\n",
              "[1336 rows x 3 columns]"
            ]
          },
          "metadata": {
            "tags": []
          },
          "execution_count": 65
        }
      ]
    },
    {
      "cell_type": "code",
      "metadata": {
        "colab": {
          "base_uri": "https://localhost:8080/",
          "height": 424
        },
        "id": "vgrp8FAPjnil",
        "outputId": "fa3ac31e-c2c9-4928-f84b-8342ebd5343d"
      },
      "source": [
        "data['r_sqr'] = data['r']**2\n",
        "data"
      ],
      "execution_count": 66,
      "outputs": [
        {
          "output_type": "execute_result",
          "data": {
            "text/html": [
              "<div>\n",
              "<style scoped>\n",
              "    .dataframe tbody tr th:only-of-type {\n",
              "        vertical-align: middle;\n",
              "    }\n",
              "\n",
              "    .dataframe tbody tr th {\n",
              "        vertical-align: top;\n",
              "    }\n",
              "\n",
              "    .dataframe thead th {\n",
              "        text-align: right;\n",
              "    }\n",
              "</style>\n",
              "<table border=\"1\" class=\"dataframe\">\n",
              "  <thead>\n",
              "    <tr style=\"text-align: right;\">\n",
              "      <th></th>\n",
              "      <th>x</th>\n",
              "      <th>r</th>\n",
              "      <th>x_sqr</th>\n",
              "      <th>r_sqr</th>\n",
              "    </tr>\n",
              "  </thead>\n",
              "  <tbody>\n",
              "    <tr>\n",
              "      <th>0</th>\n",
              "      <td>23.0</td>\n",
              "      <td>13500</td>\n",
              "      <td>529.0</td>\n",
              "      <td>182250000</td>\n",
              "    </tr>\n",
              "    <tr>\n",
              "      <th>1</th>\n",
              "      <td>23.0</td>\n",
              "      <td>13750</td>\n",
              "      <td>529.0</td>\n",
              "      <td>189062500</td>\n",
              "    </tr>\n",
              "    <tr>\n",
              "      <th>2</th>\n",
              "      <td>24.0</td>\n",
              "      <td>13950</td>\n",
              "      <td>576.0</td>\n",
              "      <td>194602500</td>\n",
              "    </tr>\n",
              "    <tr>\n",
              "      <th>3</th>\n",
              "      <td>26.0</td>\n",
              "      <td>14950</td>\n",
              "      <td>676.0</td>\n",
              "      <td>223502500</td>\n",
              "    </tr>\n",
              "    <tr>\n",
              "      <th>4</th>\n",
              "      <td>30.0</td>\n",
              "      <td>13750</td>\n",
              "      <td>900.0</td>\n",
              "      <td>189062500</td>\n",
              "    </tr>\n",
              "    <tr>\n",
              "      <th>...</th>\n",
              "      <td>...</td>\n",
              "      <td>...</td>\n",
              "      <td>...</td>\n",
              "      <td>...</td>\n",
              "    </tr>\n",
              "    <tr>\n",
              "      <th>1429</th>\n",
              "      <td>78.0</td>\n",
              "      <td>8950</td>\n",
              "      <td>6084.0</td>\n",
              "      <td>80102500</td>\n",
              "    </tr>\n",
              "    <tr>\n",
              "      <th>1430</th>\n",
              "      <td>80.0</td>\n",
              "      <td>8450</td>\n",
              "      <td>6400.0</td>\n",
              "      <td>71402500</td>\n",
              "    </tr>\n",
              "    <tr>\n",
              "      <th>1432</th>\n",
              "      <td>72.0</td>\n",
              "      <td>10845</td>\n",
              "      <td>5184.0</td>\n",
              "      <td>117614025</td>\n",
              "    </tr>\n",
              "    <tr>\n",
              "      <th>1434</th>\n",
              "      <td>70.0</td>\n",
              "      <td>7250</td>\n",
              "      <td>4900.0</td>\n",
              "      <td>52562500</td>\n",
              "    </tr>\n",
              "    <tr>\n",
              "      <th>1435</th>\n",
              "      <td>76.0</td>\n",
              "      <td>6950</td>\n",
              "      <td>5776.0</td>\n",
              "      <td>48302500</td>\n",
              "    </tr>\n",
              "  </tbody>\n",
              "</table>\n",
              "<p>1336 rows × 4 columns</p>\n",
              "</div>"
            ],
            "text/plain": [
              "         x      r   x_sqr      r_sqr\n",
              "0     23.0  13500   529.0  182250000\n",
              "1     23.0  13750   529.0  189062500\n",
              "2     24.0  13950   576.0  194602500\n",
              "3     26.0  14950   676.0  223502500\n",
              "4     30.0  13750   900.0  189062500\n",
              "...    ...    ...     ...        ...\n",
              "1429  78.0   8950  6084.0   80102500\n",
              "1430  80.0   8450  6400.0   71402500\n",
              "1432  72.0  10845  5184.0  117614025\n",
              "1434  70.0   7250  4900.0   52562500\n",
              "1435  76.0   6950  5776.0   48302500\n",
              "\n",
              "[1336 rows x 4 columns]"
            ]
          },
          "metadata": {
            "tags": []
          },
          "execution_count": 66
        }
      ]
    },
    {
      "cell_type": "code",
      "metadata": {
        "id": "4a4KLdqK7_XH"
      },
      "source": [
        "data['xr'] = data['x']*data['r']"
      ],
      "execution_count": 67,
      "outputs": []
    },
    {
      "cell_type": "code",
      "metadata": {
        "colab": {
          "base_uri": "https://localhost:8080/",
          "height": 424
        },
        "id": "FXAeoXZk-71V",
        "outputId": "b8d01380-6021-469d-a46b-7659fc094e2a"
      },
      "source": [
        "data"
      ],
      "execution_count": 68,
      "outputs": [
        {
          "output_type": "execute_result",
          "data": {
            "text/html": [
              "<div>\n",
              "<style scoped>\n",
              "    .dataframe tbody tr th:only-of-type {\n",
              "        vertical-align: middle;\n",
              "    }\n",
              "\n",
              "    .dataframe tbody tr th {\n",
              "        vertical-align: top;\n",
              "    }\n",
              "\n",
              "    .dataframe thead th {\n",
              "        text-align: right;\n",
              "    }\n",
              "</style>\n",
              "<table border=\"1\" class=\"dataframe\">\n",
              "  <thead>\n",
              "    <tr style=\"text-align: right;\">\n",
              "      <th></th>\n",
              "      <th>x</th>\n",
              "      <th>r</th>\n",
              "      <th>x_sqr</th>\n",
              "      <th>r_sqr</th>\n",
              "      <th>xr</th>\n",
              "    </tr>\n",
              "  </thead>\n",
              "  <tbody>\n",
              "    <tr>\n",
              "      <th>0</th>\n",
              "      <td>23.0</td>\n",
              "      <td>13500</td>\n",
              "      <td>529.0</td>\n",
              "      <td>182250000</td>\n",
              "      <td>310500.0</td>\n",
              "    </tr>\n",
              "    <tr>\n",
              "      <th>1</th>\n",
              "      <td>23.0</td>\n",
              "      <td>13750</td>\n",
              "      <td>529.0</td>\n",
              "      <td>189062500</td>\n",
              "      <td>316250.0</td>\n",
              "    </tr>\n",
              "    <tr>\n",
              "      <th>2</th>\n",
              "      <td>24.0</td>\n",
              "      <td>13950</td>\n",
              "      <td>576.0</td>\n",
              "      <td>194602500</td>\n",
              "      <td>334800.0</td>\n",
              "    </tr>\n",
              "    <tr>\n",
              "      <th>3</th>\n",
              "      <td>26.0</td>\n",
              "      <td>14950</td>\n",
              "      <td>676.0</td>\n",
              "      <td>223502500</td>\n",
              "      <td>388700.0</td>\n",
              "    </tr>\n",
              "    <tr>\n",
              "      <th>4</th>\n",
              "      <td>30.0</td>\n",
              "      <td>13750</td>\n",
              "      <td>900.0</td>\n",
              "      <td>189062500</td>\n",
              "      <td>412500.0</td>\n",
              "    </tr>\n",
              "    <tr>\n",
              "      <th>...</th>\n",
              "      <td>...</td>\n",
              "      <td>...</td>\n",
              "      <td>...</td>\n",
              "      <td>...</td>\n",
              "      <td>...</td>\n",
              "    </tr>\n",
              "    <tr>\n",
              "      <th>1429</th>\n",
              "      <td>78.0</td>\n",
              "      <td>8950</td>\n",
              "      <td>6084.0</td>\n",
              "      <td>80102500</td>\n",
              "      <td>698100.0</td>\n",
              "    </tr>\n",
              "    <tr>\n",
              "      <th>1430</th>\n",
              "      <td>80.0</td>\n",
              "      <td>8450</td>\n",
              "      <td>6400.0</td>\n",
              "      <td>71402500</td>\n",
              "      <td>676000.0</td>\n",
              "    </tr>\n",
              "    <tr>\n",
              "      <th>1432</th>\n",
              "      <td>72.0</td>\n",
              "      <td>10845</td>\n",
              "      <td>5184.0</td>\n",
              "      <td>117614025</td>\n",
              "      <td>780840.0</td>\n",
              "    </tr>\n",
              "    <tr>\n",
              "      <th>1434</th>\n",
              "      <td>70.0</td>\n",
              "      <td>7250</td>\n",
              "      <td>4900.0</td>\n",
              "      <td>52562500</td>\n",
              "      <td>507500.0</td>\n",
              "    </tr>\n",
              "    <tr>\n",
              "      <th>1435</th>\n",
              "      <td>76.0</td>\n",
              "      <td>6950</td>\n",
              "      <td>5776.0</td>\n",
              "      <td>48302500</td>\n",
              "      <td>528200.0</td>\n",
              "    </tr>\n",
              "  </tbody>\n",
              "</table>\n",
              "<p>1336 rows × 5 columns</p>\n",
              "</div>"
            ],
            "text/plain": [
              "         x      r   x_sqr      r_sqr        xr\n",
              "0     23.0  13500   529.0  182250000  310500.0\n",
              "1     23.0  13750   529.0  189062500  316250.0\n",
              "2     24.0  13950   576.0  194602500  334800.0\n",
              "3     26.0  14950   676.0  223502500  388700.0\n",
              "4     30.0  13750   900.0  189062500  412500.0\n",
              "...    ...    ...     ...        ...       ...\n",
              "1429  78.0   8950  6084.0   80102500  698100.0\n",
              "1430  80.0   8450  6400.0   71402500  676000.0\n",
              "1432  72.0  10845  5184.0  117614025  780840.0\n",
              "1434  70.0   7250  4900.0   52562500  507500.0\n",
              "1435  76.0   6950  5776.0   48302500  528200.0\n",
              "\n",
              "[1336 rows x 5 columns]"
            ]
          },
          "metadata": {
            "tags": []
          },
          "execution_count": 68
        }
      ]
    },
    {
      "cell_type": "code",
      "metadata": {
        "colab": {
          "base_uri": "https://localhost:8080/"
        },
        "id": "Tlkn0NGElB4Y",
        "outputId": "9985396f-c4f0-45a3-a9f1-9b82543a7a6d"
      },
      "source": [
        "(sum(data['x_sqr'])-(sum(data['x'])**2/size))"
      ],
      "execution_count": 69,
      "outputs": [
        {
          "output_type": "execute_result",
          "data": {
            "text/plain": [
              "461350.4041916169"
            ]
          },
          "metadata": {
            "tags": []
          },
          "execution_count": 69
        }
      ]
    },
    {
      "cell_type": "code",
      "metadata": {
        "colab": {
          "base_uri": "https://localhost:8080/"
        },
        "id": "yGDe44Sp8UDx",
        "outputId": "8f641e19-86f4-4654-dbc1-9200aae9a695"
      },
      "source": [
        "w1 = (sum(data['xr']) - sum(data['x'])*sum(data['r']/size)) / (sum(data['x_sqr'])-(sum(data['x'])**2/size))\n",
        "w1"
      ],
      "execution_count": 70,
      "outputs": [
        {
          "output_type": "execute_result",
          "data": {
            "text/plain": [
              "-170.94936688237877"
            ]
          },
          "metadata": {
            "tags": []
          },
          "execution_count": 70
        }
      ]
    },
    {
      "cell_type": "code",
      "metadata": {
        "colab": {
          "base_uri": "https://localhost:8080/"
        },
        "id": "DbN1zMK88ckO",
        "outputId": "2f8313bc-74a6-4597-b7b2-5adeac211b2c"
      },
      "source": [
        "w0 = sum(data['r'])/size - w1*sum(data['x'])/size\n",
        "w0"
      ],
      "execution_count": 71,
      "outputs": [
        {
          "output_type": "execute_result",
          "data": {
            "text/plain": [
              "20267.598061360455"
            ]
          },
          "metadata": {
            "tags": []
          },
          "execution_count": 71
        }
      ]
    },
    {
      "cell_type": "code",
      "metadata": {
        "id": "blGsnIAa9-2L"
      },
      "source": [
        "predicted = w0+w1*data['x']"
      ],
      "execution_count": 72,
      "outputs": []
    },
    {
      "cell_type": "code",
      "metadata": {
        "colab": {
          "base_uri": "https://localhost:8080/"
        },
        "id": "3_nFOvKiG3SW",
        "outputId": "10900335-a5d4-4a88-87ef-c7d07d0f3d4b"
      },
      "source": [
        "predicted"
      ],
      "execution_count": 73,
      "outputs": [
        {
          "output_type": "execute_result",
          "data": {
            "text/plain": [
              "0       16335.762623\n",
              "1       16335.762623\n",
              "2       16164.813256\n",
              "3       15822.914522\n",
              "4       15139.117055\n",
              "            ...     \n",
              "1429     6933.547445\n",
              "1430     6591.648711\n",
              "1432     7959.243646\n",
              "1434     8301.142380\n",
              "1435     7275.446178\n",
              "Name: x, Length: 1336, dtype: float64"
            ]
          },
          "metadata": {
            "tags": []
          },
          "execution_count": 73
        }
      ]
    },
    {
      "cell_type": "code",
      "metadata": {
        "id": "xbCYftfkHSl6",
        "colab": {
          "base_uri": "https://localhost:8080/",
          "height": 297
        },
        "outputId": "e5315af5-0d9a-4342-9f94-83d1056939fd"
      },
      "source": [
        "\n",
        "sns.regplot(x = 'x',y = 'r',data = data,fit_reg=False)#.set(xlim=(0,100),ylim=(0,500))\n",
        "\n",
        "sns.regplot(x = 'x',y = predicted,data = data)\n"
      ],
      "execution_count": 81,
      "outputs": [
        {
          "output_type": "execute_result",
          "data": {
            "text/plain": [
              "<matplotlib.axes._subplots.AxesSubplot at 0x7f7770a46fd0>"
            ]
          },
          "metadata": {
            "tags": []
          },
          "execution_count": 81
        },
        {
          "output_type": "display_data",
          "data": {
            "image/png": "[encoded data removed]",
            "text/plain": [
              "<Figure size 432x288 with 1 Axes>"
            ]
          },
          "metadata": {
            "tags": [],
            "needs_background": "light"
          }
        }
      ]
    },
    {
      "cell_type": "code",
      "metadata": {
        "id": "NUQpfi9zG4W7"
      },
      "source": [
        "error = np.sum((data['r']-predicted)**2)/size"
      ],
      "execution_count": 75,
      "outputs": []
    },
    {
      "cell_type": "code",
      "metadata": {
        "colab": {
          "base_uri": "https://localhost:8080/"
        },
        "id": "rHUqZdXQHR-v",
        "outputId": "9ee4b85d-175d-4e5f-ef06-adec15c7c47c"
      },
      "source": [
        "error"
      ],
      "execution_count": 76,
      "outputs": [
        {
          "output_type": "execute_result",
          "data": {
            "text/plain": [
              "2987200.437131624"
            ]
          },
          "metadata": {
            "tags": []
          },
          "execution_count": 76
        }
      ]
    },
    {
      "cell_type": "code",
      "metadata": {
        "id": "nTkaMf8vs30z"
      },
      "source": [
        ""
      ],
      "execution_count": 76,
      "outputs": []
    }
  ]
}